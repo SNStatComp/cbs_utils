{
 "cells": [
  {
   "cell_type": "markdown",
   "metadata": {},
   "source": [
    "# Web scraping with cbs_utils\n",
    "\n",
    "In this notebook some small examples are given on how to use the web scraping utilities from cbs_utils"
   ]
  },
  {
   "cell_type": "markdown",
   "metadata": {},
   "source": [
    "## Using the get_page_from_url function\n",
    "\n",
    "The *get_page_from_url* function allow to obtain the contents of an url and store the results in cache. The next time you run the function again, the function is read from cache. Here, an small example is given. First start with import the required modules:"
   ]
  },
  {
   "cell_type": "code",
   "execution_count": 1,
   "metadata": {},
   "outputs": [],
   "source": [
    "import logging\n",
    "from pathlib import Path\n",
    "\n",
    "from bs4 import BeautifulSoup\n",
    "\n",
    "from cbs_utils.misc import (create_logger, merge_loggers)\n",
    "from cbs_utils.regular_expressions import (KVK_REGEXP, ZIP_REGEXP, BTW_REGEXP)\n",
    "from cbs_utils.web_scraping import (get_page_from_url, UrlSearchStrings)"
   ]
  },
  {
   "cell_type": "markdown",
   "metadata": {},
   "source": [
    "Set up the logging module using the cbs_utils misc function *create_logger*"
   ]
  },
  {
   "cell_type": "code",
   "execution_count": 2,
   "metadata": {},
   "outputs": [
    {
     "data": {
      "text/plain": [
       "<Logger cbs_utils.web_scraping (INFO)>"
      ]
     },
     "execution_count": 2,
     "metadata": {},
     "output_type": "execute_result"
    }
   ],
   "source": [
    "# set up logging\n",
    "log_level = logging.DEBUG  # change to DEBUG for more info\n",
    "log_format = logging.Formatter('%(levelname)8s --- %(message)s')\n",
    "logger = create_logger(console_log_level=log_level, formatter=log_format)\n",
    "merge_loggers(logger, \"cbs_utils.web_scraping\", logger_level_to_merge=logging.INFO)"
   ]
  },
  {
   "cell_type": "markdown",
   "metadata": {},
   "source": [
    "For this example a *tmp* directory is made in your working directory to store the cache. First make sure we clean this directory in case it still existed from the previous run"
   ]
  },
  {
   "cell_type": "code",
   "execution_count": 3,
   "metadata": {},
   "outputs": [],
   "source": [
    "# create url name and clean previous cache file\n",
    "cache_directory = Path(\"tmp\")\n",
    "clean_cache = True\n",
    "if clean_cache:\n",
    "    if cache_directory.exists():\n",
    "        for item in cache_directory.iterdir():\n",
    "            item.unlink()\n",
    "        cache_directory.rmdir()\n",
    "    else:\n",
    "        logger.info(f\"Cache directory {cache_directory} was already removed\")\n"
   ]
  },
  {
   "cell_type": "markdown",
   "metadata": {},
   "source": [
    "Now we can demonstrate the *get_page_from_url* function. Note that the *with Timer* construct is only added to be able to report the processing time"
   ]
  },
  {
   "cell_type": "code",
   "execution_count": 4,
   "metadata": {},
   "outputs": [
    {
     "name": "stdout",
     "output_type": "stream",
     "text": [
      "CPU times: user 35 ms, sys: 13 ms, total: 48 ms\n",
      "Wall time: 5.47 s\n"
     ]
    }
   ],
   "source": [
    "%%time\n",
    "url = \"https://www.example.com\"\n",
    "page = get_page_from_url(url, cache_directory=cache_directory)"
   ]
  },
  {
   "cell_type": "markdown",
   "metadata": {},
   "source": [
    "As you can see, it took about 5.5 s to get all the information from the internet. Because we have added a *cache_to_disk* iterator to the *get_page_from_url* function, a cache wil in the *tmp* directory was made:"
   ]
  },
  {
   "cell_type": "code",
   "execution_count": 5,
   "metadata": {},
   "outputs": [
    {
     "name": "stdout",
     "output_type": "stream",
     "text": [
      "    INFO --- Cache file 0: tmp/get_page_from_url_https_www_example_com_.pkl\n"
     ]
    }
   ],
   "source": [
    "for ii, item in enumerate(cache_directory.iterdir()):\n",
    "    logger.info(f\"Cache file {ii}: {item}\")"
   ]
  },
  {
   "cell_type": "markdown",
   "metadata": {},
   "source": [
    "The contents of the url was stored in page and look like this:"
   ]
  },
  {
   "cell_type": "code",
   "execution_count": 6,
   "metadata": {},
   "outputs": [
    {
     "name": "stdout",
     "output_type": "stream",
     "text": [
      "    INFO --- \n",
      "<body>\n",
      "<div>\n",
      "<h1>Example Domain</h1>\n",
      "<p>This domain is established to be used for illustrative examples in documents. You may use this\n",
      "    domain in examples without prior coordination or asking for permission.</p>\n",
      "<p><a href=\"http://www.iana.org/domains/example\">More information...</a></p>\n",
      "</div>\n",
      "</body>\n",
      "\n"
     ]
    }
   ],
   "source": [
    "soup = BeautifulSoup(page.text, 'lxml')\n",
    "logger.info(\"\\n{}\\n\".format(soup.body))"
   ]
  },
  {
   "cell_type": "markdown",
   "metadata": {},
   "source": [
    "We can run the same function again. Since we now have a cache file, it will be about 1000 x faster:"
   ]
  },
  {
   "cell_type": "code",
   "execution_count": 7,
   "metadata": {},
   "outputs": [
    {
     "name": "stdout",
     "output_type": "stream",
     "text": [
      "CPU times: user 2 ms, sys: 0 ns, total: 2 ms\n",
      "Wall time: 2.12 ms\n"
     ]
    }
   ],
   "source": [
    "%%time\n",
    "page2 = get_page_from_url(url, cache_directory=cache_directory)\n"
   ]
  },
  {
   "cell_type": "markdown",
   "metadata": {},
   "source": [
    "Indeed the contecnt with exactely the same function statement runs in with about 1 ms. Now compare the results:"
   ]
  },
  {
   "cell_type": "code",
   "execution_count": 8,
   "metadata": {},
   "outputs": [
    {
     "name": "stdout",
     "output_type": "stream",
     "text": [
      "    INFO --- Contents is equal: True\n"
     ]
    }
   ],
   "source": [
    "soup2 = BeautifulSoup(page2.text, 'lxml')\n",
    "logger.info(\"Contents is equal: {}\".format(soup.body == soup2.body))"
   ]
  },
  {
   "cell_type": "markdown",
   "metadata": {},
   "source": [
    "# Using the *UrlSearchStrings* class\n",
    "\n",
    "The *UrlSearchString* class can be used to recursively crawl a web site and search for a list of regular expression we want to obtained from the web site. Again, the result is cached, so in case you want to run it again with different search string it will run significantly faster. \n",
    "\n",
    "Let first set up our first search session, trying to retrieve the postal code and kvk number from a web page"
   ]
  },
  {
   "cell_type": "code",
   "execution_count": 9,
   "metadata": {},
   "outputs": [
    {
     "name": "stdout",
     "output_type": "stream",
     "text": [
      "    INFO --- Get (cached) page: https://www.be-one.nl/ with validate True\n",
      "    INFO --- Get (cached) page: https://www.be-one.nl/be-one/ with validate True\n",
      "    INFO --- Get (cached) page: https://www.be-one.nl/beaumont/ with validate True\n",
      "    INFO --- Get (cached) page: https://www.be-one.nl/mijn-account/verlanglijstje.html with validate True\n",
      "    INFO --- Get (cached) page: https://www.be-one.nl/mila-sierra-suede-sneaker-plato_cognac_19541.html with validate True\n",
      "    INFO --- Get (cached) page: https://www.be-one.nl/milestone/ with validate True\n",
      "    INFO --- Get (cached) page: https://www.be-one.nl/ml-collections/ with validate True\n",
      "    INFO --- Get (cached) page: https://www.be-one.nl/moment-by-moment/ with validate True\n",
      "    INFO --- Get (cached) page: https://www.be-one.nl/mos-mosh/ with validate True\n",
      "    INFO --- Get (cached) page: https://www.be-one.nl/mouwloos-bloemen_groen_19532.html with validate True\n",
      "    INFO --- Get (cached) page: https://www.be-one.nl/new-arrivals/ with validate True\n",
      "    INFO --- Get (cached) page: https://www.be-one.nl/no-man-s-land/ with validate True\n",
      "    INFO --- Get (cached) page: https://www.be-one.nl/oui/ with validate True\n",
      "    INFO --- Get (cached) page: https://www.be-one.nl/outlet/ with validate True\n",
      "    INFO --- Get (cached) page: https://www.be-one.nl/over-ons/ with validate True\n",
      "    INFO --- Get (cached) page: https://www.be-one.nl/raffaello-rossi-broek-candy_zand_19441.html with validate True\n",
      "    INFO --- Get (cached) page: https://www.be-one.nl/robert-friedman/ with validate True\n",
      "    INFO --- Get (cached) page: https://www.be-one.nl/rosemunde/ with validate True\n",
      "    INFO --- Get (cached) page: https://www.be-one.nl/rosner/ with validate True\n",
      "    INFO --- Get (cached) page: https://www.be-one.nl/sale/ with validate True\n",
      "    INFO --- Get (cached) page: https://www.be-one.nl/trvl-drss-by-zenggi/ with validate True\n",
      "    INFO --- Get (cached) page: https://www.be-one.nl/vhals-relax-a-wilmaveen_wit_19531.html with validate True\n",
      "    INFO --- Get (cached) page: https://www.be-one.nl/via-vai/ with validate True\n",
      "    INFO --- Get (cached) page: https://www.be-one.nl/mijn-account/inloggen.html with validate True\n",
      "    INFO --- Get (cached) page: https://www.be-one.nl/merken/ with validate True\n",
      "    INFO --- Get (cached) page: https://www.be-one.nl/margittes/ with validate True\n",
      "    INFO --- Get (cached) page: https://www.be-one.nl/japan-tky/ with validate True\n",
      "    INFO --- Get (cached) page: https://www.be-one.nl/bella-dahl/ with validate True\n",
      "    INFO --- Get (cached) page: https://www.be-one.nl/brax/ with validate True\n",
      "    INFO --- Get (cached) page: https://www.be-one.nl/cambio/ with validate True\n",
      "    INFO --- Get (cached) page: https://www.be-one.nl/caroline-biss/ with validate True\n",
      "    INFO --- Get (cached) page: https://www.be-one.nl/collectie/ with validate True\n",
      "    INFO --- Get (cached) page: https://www.be-one.nl/creenstone/ with validate True\n",
      "    INFO --- Get (cached) page: https://www.be-one.nl/fraas/ with validate True\n",
      "    INFO --- Get (cached) page: https://www.be-one.nl/giulia-e-tu/ with validate True\n",
      "    INFO --- Get (cached) page: https://www.be-one.nl/ilse-jacobsen/ with validate True\n",
      "    INFO --- Get (cached) page: https://www.be-one.nl/klantenservice/ with validate True\n",
      "    INFO --- Get (cached) page: https://www.be-one.nl/marc-cain/ with validate True\n",
      "    INFO --- Get (cached) page: https://www.be-one.nl/klantenservice/algemene-voorwaarden.html with validate True\n",
      "    INFO --- Get (cached) page: https://www.be-one.nl/klantenservice/cookieverklaring.html with validate True\n",
      "    INFO --- Get (cached) page: https://www.be-one.nl/klantenservice/disclaimer.html with validate True\n",
      "    INFO --- Get (cached) page: https://www.be-one.nl/klantenservice/gratis-shoppen.html with validate True\n",
      "    INFO --- Get (cached) page: https://www.be-one.nl/klantenservice/personal-shopping.html with validate True\n",
      "    INFO --- Get (cached) page: https://www.be-one.nl/klantenservice/privacy-statement.html with validate True\n",
      "    INFO --- Get (cached) page: https://www.be-one.nl/kyra-ko/ with validate True\n",
      "    INFO --- Get (cached) page: https://www.be-one.nl/lookbook/ with validate True\n",
      "    INFO --- Get (cached) page: https://www.be-one.nl/luisa-cerano/ with validate True\n",
      "CPU times: user 5.01 s, sys: 217 ms, total: 5.23 s\n",
      "Wall time: 1min 57s\n"
     ]
    }
   ],
   "source": [
    "%%time\n",
    "# the regular expression are obtained from the cbs_utils.regular_expressions module\n",
    "searches = dict(\n",
    "    postcode=ZIP_REGEXP,\n",
    "    kvknumber=KVK_REGEXP\n",
    ")\n",
    "\n",
    "url = \"www.be-one.nl\"\n",
    "url_analyse = UrlSearchStrings(url, search_strings=searches, cache_directory=cache_directory,\n",
    "                               store_page_to_cache=True)"
   ]
  },
  {
   "cell_type": "markdown",
   "metadata": {},
   "source": [
    "It took us about 2 minutes to crawl the whole site. The results can be viewed by just printing the *url_analyse* object to screen:"
   ]
  },
  {
   "cell_type": "code",
   "execution_count": 10,
   "metadata": {},
   "outputs": [
    {
     "name": "stdout",
     "output_type": "stream",
     "text": [
      "    INFO --- Matches in https://www.be-one.nl/\n",
      "postcode : ['9206 BE']\n",
      "kvknumber : ['01066434']\n"
     ]
    }
   ],
   "source": [
    "logger.info(url_analyse)"
   ]
  },
  {
   "cell_type": "markdown",
   "metadata": {},
   "source": [
    "So we have found one postal code and and kvk number. Now, let's assume we also would like to have the tax number (btw in Ducth). We can run our search again, but much faster because we have stored every thing in cache again.Now we are going to add the search to our *searches* dictionary and run again:"
   ]
  },
  {
   "cell_type": "code",
   "execution_count": 14,
   "metadata": {},
   "outputs": [
    {
     "name": "stdout",
     "output_type": "stream",
     "text": [
      "    INFO --- Get (cached) page: https://www.be-one.nl/ with validate True\n",
      "    INFO --- Get (cached) page: https://www.be-one.nl/be-one/ with validate True\n",
      "    INFO --- Get (cached) page: https://www.be-one.nl/beaumont/ with validate True\n",
      "    INFO --- Get (cached) page: https://www.be-one.nl/mijn-account/verlanglijstje.html with validate True\n",
      "    INFO --- Get (cached) page: https://www.be-one.nl/mila-sierra-suede-sneaker-plato_cognac_19541.html with validate True\n",
      "    INFO --- Get (cached) page: https://www.be-one.nl/milestone/ with validate True\n",
      "    INFO --- Get (cached) page: https://www.be-one.nl/ml-collections/ with validate True\n",
      "    INFO --- Get (cached) page: https://www.be-one.nl/moment-by-moment/ with validate True\n",
      "    INFO --- Get (cached) page: https://www.be-one.nl/mos-mosh/ with validate True\n",
      "    INFO --- Get (cached) page: https://www.be-one.nl/mouwloos-bloemen_groen_19532.html with validate True\n",
      "    INFO --- Get (cached) page: https://www.be-one.nl/new-arrivals/ with validate True\n",
      "    INFO --- Get (cached) page: https://www.be-one.nl/no-man-s-land/ with validate True\n",
      "    INFO --- Get (cached) page: https://www.be-one.nl/oui/ with validate True\n",
      "    INFO --- Get (cached) page: https://www.be-one.nl/outlet/ with validate True\n",
      "    INFO --- Get (cached) page: https://www.be-one.nl/over-ons/ with validate True\n",
      "    INFO --- Get (cached) page: https://www.be-one.nl/raffaello-rossi-broek-candy_zand_19441.html with validate True\n",
      "    INFO --- Get (cached) page: https://www.be-one.nl/robert-friedman/ with validate True\n",
      "    INFO --- Get (cached) page: https://www.be-one.nl/rosemunde/ with validate True\n",
      "    INFO --- Get (cached) page: https://www.be-one.nl/rosner/ with validate True\n",
      "    INFO --- Get (cached) page: https://www.be-one.nl/sale/ with validate True\n",
      "    INFO --- Get (cached) page: https://www.be-one.nl/trvl-drss-by-zenggi/ with validate True\n",
      "    INFO --- Get (cached) page: https://www.be-one.nl/vhals-relax-a-wilmaveen_wit_19531.html with validate True\n",
      "    INFO --- Get (cached) page: https://www.be-one.nl/via-vai/ with validate True\n",
      "    INFO --- Get (cached) page: https://www.be-one.nl/mijn-account/inloggen.html with validate True\n",
      "    INFO --- Get (cached) page: https://www.be-one.nl/merken/ with validate True\n",
      "    INFO --- Get (cached) page: https://www.be-one.nl/margittes/ with validate True\n",
      "    INFO --- Get (cached) page: https://www.be-one.nl/japan-tky/ with validate True\n",
      "    INFO --- Get (cached) page: https://www.be-one.nl/bella-dahl/ with validate True\n",
      "    INFO --- Get (cached) page: https://www.be-one.nl/brax/ with validate True\n",
      "    INFO --- Get (cached) page: https://www.be-one.nl/cambio/ with validate True\n",
      "    INFO --- Get (cached) page: https://www.be-one.nl/caroline-biss/ with validate True\n",
      "    INFO --- Get (cached) page: https://www.be-one.nl/collectie/ with validate True\n",
      "    INFO --- Get (cached) page: https://www.be-one.nl/creenstone/ with validate True\n",
      "    INFO --- Get (cached) page: https://www.be-one.nl/fraas/ with validate True\n",
      "    INFO --- Get (cached) page: https://www.be-one.nl/giulia-e-tu/ with validate True\n",
      "    INFO --- Get (cached) page: https://www.be-one.nl/ilse-jacobsen/ with validate True\n",
      "    INFO --- Get (cached) page: https://www.be-one.nl/klantenservice/ with validate True\n",
      "    INFO --- Get (cached) page: https://www.be-one.nl/marc-cain/ with validate True\n",
      "    INFO --- Get (cached) page: https://www.be-one.nl/klantenservice/algemene-voorwaarden.html with validate True\n",
      "    INFO --- Get (cached) page: https://www.be-one.nl/klantenservice/cookieverklaring.html with validate True\n",
      "    INFO --- Get (cached) page: https://www.be-one.nl/klantenservice/disclaimer.html with validate True\n",
      "    INFO --- Get (cached) page: https://www.be-one.nl/klantenservice/gratis-shoppen.html with validate True\n",
      "    INFO --- Get (cached) page: https://www.be-one.nl/klantenservice/personal-shopping.html with validate True\n",
      "    INFO --- Get (cached) page: https://www.be-one.nl/klantenservice/privacy-statement.html with validate True\n",
      "    INFO --- Get (cached) page: https://www.be-one.nl/kyra-ko/ with validate True\n",
      "    INFO --- Get (cached) page: https://www.be-one.nl/lookbook/ with validate True\n",
      "    INFO --- Get (cached) page: https://www.be-one.nl/luisa-cerano/ with validate True\n",
      "CPU times: user 4.59 s, sys: 53 ms, total: 4.64 s\n",
      "Wall time: 5.14 s\n"
     ]
    }
   ],
   "source": [
    "%%time\n",
    "searches[\"btwnummer\"] = BTW_REGEXP\n",
    "\n",
    "url_analyse = UrlSearchStrings(url, search_strings=searches, cache_directory=cache_directory,\n",
    "                               store_page_to_cache=True, schema=url_analyse.schema,\n",
    "                               ssl_valid=url_analyse.ssl_valid,\n",
    "                               validate_url=False\n",
    "                              )"
   ]
  },
  {
   "cell_type": "markdown",
   "metadata": {},
   "source": [
    "This time we could run our search in about 5 seconds instead of two minutes. Note that we have explicitely added the url scheme \"https\" and gave a flag that the urls should not be validated.\n",
    "\n",
    "The results can be seen by printing the object"
   ]
  },
  {
   "cell_type": "code",
   "execution_count": 16,
   "metadata": {},
   "outputs": [
    {
     "name": "stdout",
     "output_type": "stream",
     "text": [
      "    INFO --- Matches in https://www.be-one.nl/\n",
      "postcode : ['9206 BE']\n",
      "kvknumber : ['01066434']\n",
      "btwnummer : ['NL8019.96.028.B.01']\n"
     ]
    }
   ],
   "source": [
    "logger.info(url_analyse)"
   ]
  },
  {
   "cell_type": "markdown",
   "metadata": {},
   "source": [
    "Indeed, a btwnumber was added this time. "
   ]
  },
  {
   "cell_type": "code",
   "execution_count": null,
   "metadata": {},
   "outputs": [],
   "source": []
  }
 ],
 "metadata": {
  "kernelspec": {
   "display_name": "Python 3",
   "language": "python",
   "name": "python3"
  },
  "language_info": {
   "codemirror_mode": {
    "name": "ipython",
    "version": 3
   },
   "file_extension": ".py",
   "mimetype": "text/x-python",
   "name": "python",
   "nbconvert_exporter": "python",
   "pygments_lexer": "ipython3",
   "version": "3.7.3"
  }
 },
 "nbformat": 4,
 "nbformat_minor": 2
}

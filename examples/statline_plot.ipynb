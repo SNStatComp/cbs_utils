{
 "cells": [
  {
   "cell_type": "markdown",
   "metadata": {},
   "source": [
    "# StatLineTable plot voorbeeld"
   ]
  },
  {
   "cell_type": "markdown",
   "metadata": {},
   "source": [
    "Hier geven we een voorbeeld hoe je makkelijk met een Python script data van statlijn kan halen en een plot in CBS stijl kan maken. \n",
    "\n",
    "We maken gebruik van de *StatLineTable* klasse uit de *cbs_utils.readers* sectie. Deze klasse is een toevoeging op de *cbsodata* module. Met *StatLineTable* kan je de data in een gestructureede pandas dataframe stoppen, zodat het bewerken en plotten een stuk eenvoudiger gaat. \n",
    "\n",
    "We beginnen met het inladen van de benodigde modules"
   ]
  },
  {
   "cell_type": "code",
   "execution_count": 1,
   "metadata": {},
   "outputs": [],
   "source": [
    "import matplotlib.pyplot as plt\n",
    "import logging\n",
    "\n",
    "from cbs_utils.misc import (create_logger, merge_loggers)\n",
    "from cbs_utils.plotting import CBSPlotSettings\n",
    "from cbs_utils.readers import StatLineTable"
   ]
  },
  {
   "cell_type": "markdown",
   "metadata": {},
   "source": [
    "Nu initialiseren we eerst de logger en ook de plot settings. Daar gebruiken we wat utilties uit cbs_utils voor"
   ]
  },
  {
   "cell_type": "code",
   "execution_count": 2,
   "metadata": {},
   "outputs": [],
   "source": [
    "fig_properties = CBSPlotSettings()\n",
    "\n",
    "logger = create_logger()\n",
    "logger2 = logging.getLogger(\"cbs_utils.readers\")\n",
    "logger2.setLevel(logging.INFO)"
   ]
  },
  {
   "cell_type": "markdown",
   "metadata": {},
   "source": [
    "# Inlezen van een OpenData Tabel"
   ]
  },
  {
   "cell_type": "markdown",
   "metadata": {},
   "source": [
    "Het inladen van een tabel uit opendata is eenvoudig. We moeten eerst de ID van een tabel vinden door naar statline te gaan en je tabel te openen. Bijvoorbeeld, het ICT gebruik van bedrijven in 2018 naar bedrijfsgrootte staat in deze tabel\n",
    "\n",
    "https://opendata.cbs.nl/#/CBS/nl/dataset/84410NED/table?ts=1568706226304\n",
    "\n",
    "Dit betekent dat de tabel ID '84410NED' is. Deze gaan we nu inlezen"
   ]
  },
  {
   "cell_type": "code",
   "execution_count": 3,
   "metadata": {},
   "outputs": [
    {
     "name": "stdout",
     "output_type": "stream",
     "text": [
      "  INFO : Start met het lezen van tabel 84410NED\n"
     ]
    },
    {
     "name": "stderr",
     "output_type": "stream",
     "text": [
      "INFO:cbs_utils.readers:Reading json cache/84410NED/DataProperties.json\n",
      "INFO:cbs_utils.readers:Reading json cache/84410NED/TypedDataSet.json\n",
      "INFO:cbs_utils.readers:Reading json cache/84410NED/TableInfos.json\n",
      "INFO:cbs_utils.readers:Merging all the dataframes\n",
      "INFO:cbs_utils.readers:Writing to pickle database cache/84410NED_question.pkl\n",
      "INFO:cbs_utils.readers:Writing to pickle database cache/84410NED_section.pkl\n",
      "INFO:cbs_utils.readers:Writing to pickle database cache/84410NED_dimensions.pkl\n",
      "INFO:cbs_utils.readers:Writing table information to images/84410NED/TableInfos.yml\n",
      "INFO:cbs_utils.readers:Writing question structure to images/84410NED/QuestionTable.txt\n",
      "INFO:cbs_utils.readers:Writing question structure to images/84410NED/SectionTable.txt\n"
     ]
    },
    {
     "name": "stdout",
     "output_type": "stream",
     "text": [
      "CPU times: user 1.82 s, sys: 35 ms, total: 1.85 s\n",
      "Wall time: 7.36 s\n"
     ]
    }
   ],
   "source": [
    "%%time\n",
    "table_id = \"84410NED\"\n",
    "logger.info(f\"Start met het lezen van tabel {table_id}\")\n",
    "statline = StatLineTable(table_id=table_id)"
   ]
  },
  {
   "cell_type": "markdown",
   "metadata": {},
   "source": [
    "Je ziet dat er 'under the hood' een hoop gebeurd. We zien de volgende stappen\n",
    "    1. Het laden van de data wordt door de *cbsodata* module afgehandeld. Deze module slaat de data op in verschillende json file. \n",
    "    2. Vervolgens worden deze json file samengevoegd tot een pandas Dataframe. \n",
    "    3. We slaan de data frames op in een pickel file (standaar binary python file). De volgende keer als je dezelfde plot maakt zullen de pickel files ingelezen worden. Dit gaat veel sneller dan de de data nog een keer met *cbsodata* van het internet te downloadedn. Het maakt het ontwikkelen van een script een stuk gemakkelijker.\n",
    "    4. We slaan de structuur van de tabel op in wat txt files: QuestionTable bevat alle vragen, SectionTable alle modules. Deze data files kan je gebruiken om snel op te zoeken welk nummer je moet gebruiken om een vraag te plotten\n",
    "    \n",
    "Om te laten zien dat het laden van de tabellen een tweede keer een stuk sneller gaat, draaien we de script nog een keer:"
   ]
  },
  {
   "cell_type": "code",
   "execution_count": 4,
   "metadata": {},
   "outputs": [
    {
     "name": "stderr",
     "output_type": "stream",
     "text": [
      "INFO:cbs_utils.readers:Reading json cache/84410NED/DataProperties.json\n",
      "INFO:cbs_utils.readers:Reading json cache/84410NED/TypedDataSet.json\n",
      "INFO:cbs_utils.readers:Reading json cache/84410NED/TableInfos.json\n",
      "INFO:cbs_utils.readers:Reading from pickle database cache/84410NED_question.pkl\n",
      "INFO:cbs_utils.readers:Reading from pickle database cache/84410NED_section.pkl\n",
      "INFO:cbs_utils.readers:Reading from pickle database cache/84410NED_dimensions.pkl\n",
      "INFO:cbs_utils.readers:Writing table information to images/84410NED/TableInfos.yml\n",
      "INFO:cbs_utils.readers:Writing question structure to images/84410NED/QuestionTable.txt\n",
      "INFO:cbs_utils.readers:Writing question structure to images/84410NED/SectionTable.txt\n"
     ]
    },
    {
     "name": "stdout",
     "output_type": "stream",
     "text": [
      "CPU times: user 106 ms, sys: 10 ms, total: 116 ms\n",
      "Wall time: 178 ms\n"
     ]
    }
   ],
   "source": [
    "%%time\n",
    "statline = StatLineTable(table_id=table_id)"
   ]
  },
  {
   "cell_type": "markdown",
   "metadata": {},
   "source": [
    "De eerste keer dat we de script draaide duurde het ruim 7 seconden, de tweede keer een fractie van een seconde. Dit tijdsvoordeel is vooral prettig als je de script vaak herdraaid om een plaatje te 'tunen'"
   ]
  },
  {
   "cell_type": "markdown",
   "metadata": {},
   "source": [
    "## Analyse van de opendata tabel"
   ]
  },
  {
   "cell_type": "markdown",
   "metadata": {},
   "source": [
    "Als volgende stap gaan we bekijken hoe de data structuur van de vragenlijst eruit ziet. Zoals gezegd, dit je ook door de inhoud van QuestionTable.txt in the image directory te bekijken. Maar we kunnen het ook direct opvragen:"
   ]
  },
  {
   "cell_type": "code",
   "execution_count": null,
   "metadata": {},
   "outputs": [],
   "source": [
    "statline.s"
   ]
  }
 ],
 "metadata": {
  "kernelspec": {
   "display_name": "Python 3",
   "language": "python",
   "name": "python3"
  },
  "language_info": {
   "codemirror_mode": {
    "name": "ipython",
    "version": 3
   },
   "file_extension": ".py",
   "mimetype": "text/x-python",
   "name": "python",
   "nbconvert_exporter": "python",
   "pygments_lexer": "ipython3",
   "version": "3.7.3"
  }
 },
 "nbformat": 4,
 "nbformat_minor": 2
}

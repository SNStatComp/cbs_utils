{
 "cells": [
  {
   "cell_type": "markdown",
   "metadata": {},
   "source": [
    "# StatLineTable plot voorbeeld"
   ]
  },
  {
   "cell_type": "markdown",
   "metadata": {},
   "source": [
    "Hier geven we een voorbeeld hoe je makkelijk met een Python script data van statlijn kan halen en een plot in CBS stijl kan maken. \n",
    "\n",
    "We maken gebruik van de *StatLineTable* klasse uit de *cbs_utils.readers* sectie. Deze klasse is een toevoeging op de *cbsodata* module. Met *StatLineTable* kan je de data in een gestructureede pandas dataframe stoppen, zodat het bewerken en plotten een stuk eenvoudiger gaat. \n",
    "\n",
    "We beginnen met het inladen van de benodigde modules"
   ]
  },
  {
   "cell_type": "code",
   "execution_count": 1,
   "metadata": {},
   "outputs": [],
   "source": [
    "import matplotlib.pyplot as plt\n",
    "import logging\n",
    "\n",
    "from cbs_utils.misc import (create_logger, merge_loggers)\n",
    "from cbs_utils.plotting import CBSPlotSettings\n",
    "from cbs_utils.readers import StatLineTable"
   ]
  },
  {
   "cell_type": "markdown",
   "metadata": {},
   "source": [
    "Nu initialiseren we eerst de logger en ook de plot settings. Daar gebruiken we wat utilties uit cbs_utils voor"
   ]
  },
  {
   "cell_type": "code",
   "execution_count": 9,
   "metadata": {},
   "outputs": [],
   "source": [
    "fig_properties = CBSPlotSettings()\n",
    "\n",
    "logger = create_logger()\n",
    "merge_loggers(logger, logger_name_to_merge=\"cbs_utils.readers\")\n",
    "logger2 = logging.getLogger(\"cbs_utils.readers\")\n",
    "logger2.setLevel(logging.INFO)"
   ]
  },
  {
   "cell_type": "markdown",
   "metadata": {},
   "source": [
    "# Inlezen van een OpenData Tabel"
   ]
  },
  {
   "cell_type": "markdown",
   "metadata": {},
   "source": [
    "Het inladen van een tabel uit opendata is eenvoudig. We moeten eerst de ID van een tabel vinden door naar statline te gaan en je tabel te openen. Bijvoorbeeld, het ICT gebruik van bedrijven in 2018 naar bedrijfsgrootte staat in deze tabel\n",
    "\n",
    "https://opendata.cbs.nl/#/CBS/nl/dataset/84410NED/table?ts=1568706226304\n",
    "\n",
    "Dit betekent dat de tabel ID '84410NED' is. Deze gaan we nu inlezen"
   ]
  },
  {
   "cell_type": "code",
   "execution_count": 10,
   "metadata": {},
   "outputs": [
    {
     "name": "stdout",
     "output_type": "stream",
     "text": [
      "  INFO : Start met het lezen van tabel 84410NED\n",
      "  INFO : Reading json cache/84410NED/DataProperties.json\n",
      "  INFO : Reading json cache/84410NED/TypedDataSet.json\n",
      "  INFO : Reading json cache/84410NED/TableInfos.json\n",
      "  INFO : Reading from pickle database cache/84410NED_question.pkl\n",
      "  INFO : Reading from pickle database cache/84410NED_section.pkl\n",
      "  INFO : Reading from pickle database cache/84410NED_dimensions.pkl\n",
      "  INFO : Writing table information to images/84410NED/TableInfos.yml\n",
      "  INFO : Writing question structure to images/84410NED/QuestionTable.txt\n",
      "  INFO : Writing question structure to images/84410NED/SectionTable.txt\n",
      "CPU times: user 108 ms, sys: 8 ms, total: 116 ms\n",
      "Wall time: 184 ms\n"
     ]
    }
   ],
   "source": [
    "%%time\n",
    "table_id = \"84410NED\"\n",
    "logger.info(f\"Start met het lezen van tabel {table_id}\")\n",
    "statline = StatLineTable(table_id=table_id)"
   ]
  },
  {
   "cell_type": "markdown",
   "metadata": {},
   "source": [
    "Je ziet dat er 'under the hood' een hoop gebeurd. We zien de volgende stappen\n",
    "    1. Het laden van de data wordt door de *cbsodata* module afgehandeld. Deze module slaat de data op in verschillende json file. \n",
    "    2. Vervolgens worden deze json file samengevoegd tot een pandas Dataframe. \n",
    "    3. We slaan de data frames op in een pickel file (standaar binary python file). De volgende keer als je dezelfde plot maakt zullen de pickel files ingelezen worden. Dit gaat veel sneller dan de de data nog een keer met *cbsodata* van het internet te downloadedn. Het maakt het ontwikkelen van een script een stuk gemakkelijker.\n",
    "    4. We slaan de structuur van de tabel op in wat txt files: QuestionTable bevat alle vragen, SectionTable alle modules. Deze data files kan je gebruiken om snel op te zoeken welk nummer je moet gebruiken om een vraag te plotten\n",
    "    \n",
    "Om te laten zien dat het laden van de tabellen een tweede keer een stuk sneller gaat, draaien we de script nog een keer:"
   ]
  },
  {
   "cell_type": "code",
   "execution_count": 11,
   "metadata": {},
   "outputs": [
    {
     "name": "stdout",
     "output_type": "stream",
     "text": [
      "  INFO : Reading json cache/84410NED/DataProperties.json\n",
      "  INFO : Reading json cache/84410NED/TypedDataSet.json\n",
      "  INFO : Reading json cache/84410NED/TableInfos.json\n",
      "  INFO : Reading from pickle database cache/84410NED_question.pkl\n",
      "  INFO : Reading from pickle database cache/84410NED_section.pkl\n",
      "  INFO : Reading from pickle database cache/84410NED_dimensions.pkl\n",
      "  INFO : Writing table information to images/84410NED/TableInfos.yml\n",
      "  INFO : Writing question structure to images/84410NED/QuestionTable.txt\n",
      "  INFO : Writing question structure to images/84410NED/SectionTable.txt\n",
      "CPU times: user 108 ms, sys: 4 ms, total: 112 ms\n",
      "Wall time: 178 ms\n"
     ]
    }
   ],
   "source": [
    "%%time\n",
    "statline = StatLineTable(table_id=table_id)"
   ]
  },
  {
   "cell_type": "markdown",
   "metadata": {},
   "source": [
    "De eerste keer dat we de script draaide duurde het ruim 7 seconden, de tweede keer een fractie van een seconde. Dit tijdsvoordeel is vooral prettig als je de script vaak herdraaid om een plaatje te 'tunen'"
   ]
  },
  {
   "cell_type": "markdown",
   "metadata": {},
   "source": [
    "## Analyse van de opendata tabel"
   ]
  },
  {
   "cell_type": "markdown",
   "metadata": {},
   "source": [
    "Als volgende stap gaan we bekijken hoe de data structuur van de vragenlijst eruit ziet. Zoals gezegd, dit je ook door de inhoud van QuestionTable.txt in the image directory te bekijken. Maar we kunnen het ook direct opvragen:"
   ]
  },
  {
   "cell_type": "code",
   "execution_count": 12,
   "metadata": {},
   "outputs": [
    {
     "name": "stdout",
     "output_type": "stream",
     "text": [
      "  INFO : Structure of all modules\n",
      "+------+------------+----------------------------------------+\n",
      "|   ID |   ParentID | Title                                  |\n",
      "|------+------------+----------------------------------------|\n",
      "|    1 |            | Personeel en ICT                       |\n",
      "|    4 |          1 | ICT-specialisten                       |\n",
      "|    9 |          1 | ICT-beveiliging/bescherming data       |\n",
      "|   13 |            | Toegang en gebruik internet            |\n",
      "|   14 |         13 | Bedrijven met website                  |\n",
      "|   16 |         14 | Website bevat                          |\n",
      "|   23 |            | Cloud-diensten                         |\n",
      "|   25 |         23 | Type cloud-diensten                    |\n",
      "|   33 |         25 | Type server                            |\n",
      "|   36 |            | Big-data-analyse                       |\n",
      "|   38 |         36 | Bronnen big data voor analyse          |\n",
      "|   43 |         36 | Wie analyseerde big data               |\n",
      "|   46 |            | ICT-veiligheid                         |\n",
      "|   47 |         46 | Gebruikte ICT-veiligheidsmaatregelen   |\n",
      "|   60 |         46 | Optreden van ICT veiligheidsincidenten |\n",
      "|   65 |         46 | Oorzaken van ICT veiligheidsincidenten |\n",
      "|   72 |         46 | Kosten ICT-veiligheidsincidenten       |\n",
      "|   79 |         46 | Uitvoeren updates (security patching)  |\n",
      "|   83 |            | Facturen                               |\n",
      "|   84 |         83 | Facturen verzonden aan                 |\n",
      "|   88 |         83 | Wijze van verzending van facturen      |\n",
      "|   92 |         83 | Wijze van ontvangst van facturen       |\n",
      "|   97 |            | E-commerce in 2017                     |\n",
      "|   98 |         97 | Gebruik voor verkoop                   |\n",
      "|  100 |         98 | Verdeling omzet: eigen site of extern  |\n",
      "|  110 |         98 | Via een website/app                    |\n",
      "|  119 |        110 | Naar afnemer                           |\n",
      "|  124 |         98 | Via EDI                                |\n",
      "|  133 |         97 | Gebruik voor inkoop                    |\n",
      "|  142 |        133 | Via een website/app                    |\n",
      "|  151 |        133 | Via EDI                                |\n",
      "+------+------------+----------------------------------------+\n"
     ]
    }
   ],
   "source": [
    "statline.show_module_table()"
   ]
  },
  {
   "cell_type": "markdown",
   "metadata": {},
   "source": [
    "We zien hier een lijst van modules en subsecties. Een module is een blok van vragen die bij één onderwerp horen. Ze worden in opendaten in één sectie ondergebracht. Een module heeft als eigenschap dat hij ook een ParentID heeft. De ParentID bewijst naar de voorgaande sectie waartoe de module behoort. Zo heeft module 14 met de titel 'Bedrijven met website' bijvoorbeeld als parent de sectie 13 'Toegang en gebruik internet'. Deze sectie 13 heeft geen parent, daarom weten we dat het geen module is, maar gewoon sectie indeling (je ziet dat de waarde ParentID die bij 13 hoort leeg is).  "
   ]
  },
  {
   "cell_type": "markdown",
   "metadata": {},
   "source": [
    "we kunnen ook de volledige structuur van de vragenlijst bekijken. Dit doen we als volgt:"
   ]
  },
  {
   "cell_type": "code",
   "execution_count": 13,
   "metadata": {},
   "outputs": [
    {
     "name": "stdout",
     "output_type": "stream",
     "text": [
      "  INFO : Structure of all questions\n",
      "+-------------------------------+-----------------------------------------+------------------------------------------+-----------------------------+\n",
      "|                               | Key                                     | Title                                    | Unit                        |\n",
      "|-------------------------------+-----------------------------------------+------------------------------------------+-----------------------------|\n",
      "| (1, 2, nan, nan, nan)         | ICTPersAangenomenWillenAannemen_1       | ICT-pers. aangenomen/willen aannemen     | % van bedrijven             |\n",
      "| (1, 3, nan, nan, nan)         | ICTVacaturesLastigTeVervullen_2         | ICT-vacatures lastig te vervullen        | % van bedrijven             |\n",
      "| (1, 4, 5.0, nan, nan)         | ICTSpecialistenInLoondienst_3           | ICT-specialisten in loondienst           | % van werkzame personen     |\n",
      "| (1, 4, 6.0, nan, nan)         | ICTSpecOntwEnOnderhoudSoftware_4        | ICT-spec. ontw. en onderhoud software    | % van werkzame personen     |\n",
      "| (1, 7, nan, nan, nan)         | ICTCursusAanICTSpecialisten_5           | ICT-cursus aan ICT-specialisten          | % van bedrijven             |\n",
      "| (1, 8, nan, nan, nan)         | ICTCursusAanOverigPersoneel_6           | ICT-cursus aan overig personeel          | % van bedrijven             |\n",
      "| (1, 9, 10.0, nan, nan)        | VoornUitgDoorEigenPersoneel_7           | Voorn. uitg. door eigen personeel        | % van bedrijven             |\n",
      "| (1, 9, 11.0, nan, nan)        | VoornUitgDoorExterneLeveranciers_8      | Voorn. uitg. door externe leveranciers   | % van bedrijven             |\n",
      "| (1, 9, 12.0, nan, nan)        | NietVanToepassing_9                     | Niet van toepassing                      | % van bedrijven             |\n",
      "| (13, 14, 15.0, nan, nan)      | BedrijvenMetWebsite_10                  | Bedrijven met website                    | % van bedrijven             |\n",
      "| (13, 14, 16.0, 17.0, nan)     | OnlineBestellenBoekenOfReserveren_11    | Online bestellen, boeken of reserveren   | % van bedrijven             |\n",
      "| (13, 14, 16.0, 18.0, nan)     | BeschrijvingenVanProductenPrijslijst_12 | Beschrijvingen van producten, prijslijst | % van bedrijven             |\n",
      "| (13, 14, 16.0, 19.0, nan)     | BestellingOnlineVolgen_13               | Bestelling online volgen                 | % van bedrijven             |\n",
      "| (13, 14, 16.0, 20.0, nan)     | ProductaanpassingDoorKlant_14           | Productaanpassing door klant             | % van bedrijven             |\n",
      "| (13, 14, 16.0, 21.0, nan)     | KlantspecifiekeInfoVoorDeBezoeker_15    | Klantspecifieke info voor de bezoeker    | % van bedrijven             |\n",
      "| (13, 14, 16.0, 22.0, nan)     | VerwijzingNaarSocialeMedia_16           | Verwijzing naar sociale media            | % van bedrijven             |\n",
      "| (23, 24, nan, nan, nan)       | CloudDienstenGebruikt_17                | Cloud-diensten gebruikt                  | % van bedrijven             |\n",
      "| (23, 25, 26.0, nan, nan)      | EMailAlsCloudDienst_18                  | E-mail (als cloud-dienst)                | % van bedrijven             |\n",
      "| (23, 25, 27.0, nan, nan)      | OfficeSoftware_19                       | Office software                          | % van bedrijven             |\n",
      "| (23, 25, 28.0, nan, nan)      | DatabaseHosting_20                      | Database hosting                         | % van bedrijven             |\n",
      "| (23, 25, 29.0, nan, nan)      | BestandenOpslaanAlsCloudDienst_21       | Bestanden opslaan (als cloud-dienst)     | % van bedrijven             |\n",
      "| (23, 25, 30.0, nan, nan)      | SoftwareVoorBoekhouding_22              | Software voor boekhouding                | % van bedrijven             |\n",
      "| (23, 25, 31.0, nan, nan)      | SoftwareKlantinformatiebeheer_23        | Software klantinformatiebeheer           | % van bedrijven             |\n",
      "| (23, 25, 32.0, nan, nan)      | RekenkrachtVoorSoftwareBedrijf_24       | Rekenkracht voor software bedrijf        | % van bedrijven             |\n",
      "| (23, 25, 33.0, 34.0, nan)     | GedeeldeServers_25                      | Gedeelde servers                         | % van bedrijven             |\n",
      "| (23, 25, 33.0, 35.0, nan)     | ServersUitsluitendVoorHetBedrijf_26     | Servers uitsluitend voor het bedrijf     | % van bedrijven             |\n",
      "| (36, 37, nan, nan, nan)       | Uitgevoerd_27                           | Uitgevoerd                               | % van bedrijven             |\n",
      "| (36, 38, 39.0, nan, nan)      | DataVanBedrijfZelf_28                   | Data van bedrijf zelf                    | % van bedrijven             |\n",
      "| (36, 38, 40.0, nan, nan)      | DataOverGeografischeLocaties_29         | Data over geografische locaties          | % van bedrijven             |\n",
      "| (36, 38, 41.0, nan, nan)      | DataVanSocialeMedia_30                  | Data van sociale media                   | % van bedrijven             |\n",
      "| (36, 38, 42.0, nan, nan)      | AndereBronnen_31                        | Andere bronnen                           | % van bedrijven             |\n",
      "| (36, 43, 44.0, nan, nan)      | MedewerkersEigenBedrijf_32              | Medewerkers eigen bedrijf                | % van bedrijven             |\n",
      "| (36, 43, 45.0, nan, nan)      | AnderBedrijf_33                         | Ander bedrijf                            | % van bedrijven             |\n",
      "| (46, 47, 48.0, nan, nan)      | Antivirussoftware_34                    | Antivirussoftware                        | % van bedrijven             |\n",
      "| (46, 47, 49.0, nan, nan)      | BeleidVoorSterkeWachtwoorden_35         | Beleid voor sterke wachtwoorden          | % van bedrijven             |\n",
      "| (46, 47, 50.0, nan, nan)      | AuthenticatieViaSoftOfHardwareToken_36  | Authenticatie via soft of hardware-token | % van bedrijven             |\n",
      "| (46, 47, 51.0, nan, nan)      | EncryptieVoorHetOpslaanVanData_37       | Encryptie voor het opslaan van data      | % van bedrijven             |\n",
      "| (46, 47, 52.0, nan, nan)      | EncryptieVoorHetVersturenVanData_38     | Encryptie voor het versturen van data    | % van bedrijven             |\n",
      "| (46, 47, 53.0, nan, nan)      | GegevensOpAndereFysiekeLocatie_39       | Gegevens op andere fysieke locatie       | % van bedrijven             |\n",
      "| (46, 47, 54.0, nan, nan)      | NetworkAccessControl_40                 | Network access control                   | % van bedrijven             |\n",
      "| (46, 47, 55.0, nan, nan)      | VPNBijInternetgebruikBuitenHetEigen_41  | VPN bij internetgebruik buiten het eigen | % van bedrijven             |\n",
      "| (46, 47, 56.0, nan, nan)      | LogbestandenVoorAnalyseIncidenten_42    | Logbestanden voor analyse incidenten     | % van bedrijven             |\n",
      "| (46, 47, 57.0, nan, nan)      | MethodesVoorBeoordelenITCVeiligheid_43  | Methodes voor beoordelen ITC-veiligheid  | % van bedrijven             |\n",
      "| (46, 47, 58.0, nan, nan)      | Risicoanalyses_44                       | Risicoanalyses                           | % van bedrijven             |\n",
      "| (46, 47, 59.0, nan, nan)      | AndereMaatregelen_45                    | Andere maatregelen                       | % van bedrijven             |\n",
      "| (46, 60, 61.0, nan, nan)      | IncidentOpgetreden_46                   | Incident opgetreden                      | % van bedrijven             |\n",
      "| (46, 60, 62.0, nan, nan)      | KostenGehadAanICTIncident_47            | Kosten gehad aan ICT-incident            | % van bedrijven             |\n",
      "| (46, 60, 63.0, nan, nan)      | IncidentDoorAanvalVanBuiten_48          | Incident door aanval van buiten          | % van bedrijven             |\n",
      "| (46, 60, 64.0, nan, nan)      | KostenIncidentAanvalBuitenaf_49         | Kosten incident (aanval buitenaf)        | % van bedrijven             |\n",
      "| (46, 65, 66.0, nan, nan)      | UitvalICTDienstDoorVeiligheidsinc_50    | Uitval ICT-dienst door veiligheidsinc.   | % van bedrijven             |\n",
      "| (46, 65, 67.0, nan, nan)      | UitvalICTDienstDoorAanvalBuitenaf_51    | Uitval ICT-dienst door aanval buitenaf   | % van bedrijven             |\n",
      "| (46, 65, 68.0, nan, nan)      | VernietigingDataDoorVeiligheidsinc_52   | Vernietiging data door veiligheidsinc.   | % van bedrijven             |\n",
      "| (46, 65, 69.0, nan, nan)      | VernietigingDataAanvalVanBuitenaf_53    | Vernietiging data;  aanval van buitenaf  | % van bedrijven             |\n",
      "| (46, 65, 70.0, nan, nan)      | OnthullingGegevensDoorICTInbraak_54     | Onthulling gegevens door ICT-inbraak     | % van bedrijven             |\n",
      "| (46, 65, 71.0, nan, nan)      | OnthullingGegevensDoorInternIncident_55 | Onthulling gegevens door intern incident | % van bedrijven             |\n",
      "| (46, 72, 73.0, nan, nan)      | UitvalICTDienstDoorVeiligheidsinc_56    | Uitval ICT-dienst door veiligheidsinc.   | % van bedrijven             |\n",
      "| (46, 72, 74.0, nan, nan)      | UitvalICTDienstDoorAanvalBuitenaf_57    | Uitval ICT-dienst door aanval buitenaf   | % van bedrijven             |\n",
      "| (46, 72, 75.0, nan, nan)      | VernietigingDataDoorVeiligheidsinc_58   | Vernietiging data door veiligheidsinc.   | % van bedrijven             |\n",
      "| (46, 72, 76.0, nan, nan)      | VernietigingDataAanvalVanBuitenaf_59    | Vernietiging data;  aanval van buitenaf  | % van bedrijven             |\n",
      "| (46, 72, 77.0, nan, nan)      | OnthullingGegevensDoorICTInbraak_60     | Onthulling gegevens door ICT-inbraak     | % van bedrijven             |\n",
      "| (46, 72, 78.0, nan, nan)      | OnthullingGegevensDoorInternIncident_61 | Onthulling gegevens door intern incident | % van bedrijven             |\n",
      "| (46, 79, 80.0, nan, nan)      | MeestalVolledigAutomatisch_62           | Meestal volledig automatisch             | % van bedrijven             |\n",
      "| (46, 79, 81.0, nan, nan)      | MeestalDeelsHandmatig_63                | Meestal (deels) handmatig                | % van bedrijven             |\n",
      "| (46, 79, 82.0, nan, nan)      | NietVanToepassing_64                    | Niet van toepassing                      | % van bedrijven             |\n",
      "| (83, 84, 85.0, nan, nan)      | AndereBedrijven_65                      | Andere bedrijven                         | % van bedrijven             |\n",
      "| (83, 84, 86.0, nan, nan)      | Overheden_66                            | Overheden                                | % van bedrijven             |\n",
      "| (83, 84, 87.0, nan, nan)      | Consumenten_67                          | Consumenten                              | % van bedrijven             |\n",
      "| (83, 88, 89.0, nan, nan)      | EFactuur_68                             | E-factuur                                | % van verzonden facturen    |\n",
      "| (83, 88, 90.0, nan, nan)      | ElektronischMaarGeenEFactuur_69         | Elektronisch, maar geen e-factuur        | % van verzonden facturen    |\n",
      "| (83, 88, 91.0, nan, nan)      | InPapierenVorm_70                       | In papieren vorm                         | % van verzonden facturen    |\n",
      "| (83, 92, 93.0, nan, nan)      | EFactuur_71                             | E-factuur                                | % van ontvangen facturen    |\n",
      "| (83, 92, 94.0, nan, nan)      | GeenEFactuur_72                         | Geen e-factuur                           | % van ontvangen facturen    |\n",
      "| (83, 95, nan, nan, nan)       | EFacturenVerzonden_73                   | E-facturen verzonden                     | % van bedrijven             |\n",
      "| (83, 96, nan, nan, nan)       | EFacturenOntvangen_74                   | E-facturen ontvangen                     | % van bedrijven             |\n",
      "| (97, 98, 99.0, nan, nan)      | VerkoopViaECommerce_75                  | Verkoop via e-commerce                   | % van bedrijven             |\n",
      "| (97, 98, 100.0, 101.0, nan)   | ViaWebsiteOfAppsVanEigenBedrijf_76      | Via website of apps van eigen bedrijf    | % van omzet                 |\n",
      "| (97, 98, 100.0, 102.0, nan)   | ViaWebsiteOfAppsVanAndereBedrijven_77   | Via website of apps van andere bedrijven | % van omzet                 |\n",
      "| (97, 98, 103.0, nan, nan)     | Verkoopwaarde1VanDeTotaleOmzet_78       | Verkoopwaarde < 1% van de totale omzet   | % van bedrijven             |\n",
      "| (97, 98, 104.0, nan, nan)     | Verkoopwaarde1VanDeTotaleOmzet_79       | Verkoopwaarde >= 1% van de totale omzet  | % van bedrijven             |\n",
      "| (97, 98, 105.0, nan, nan)     | Verkoopwaarde2VanDeTotaleOmzet_80       | Verkoopwaarde >= 2% van de totale omzet  | % van bedrijven             |\n",
      "| (97, 98, 106.0, nan, nan)     | Verkoopwaarde5VanDeTotaleOmzet_81       | Verkoopwaarde >= 5% van de totale omzet  | % van bedrijven             |\n",
      "| (97, 98, 107.0, nan, nan)     | Verkoopwaarde10VanDeTotaleOmzet_82      | Verkoopwaarde >= 10% van de totale omzet | % van bedrijven             |\n",
      "| (97, 98, 108.0, nan, nan)     | Verkoopwaarde25VanDeTotaleOmzet_83      | Verkoopwaarde >= 25% van de totale omzet | % van bedrijven             |\n",
      "| (97, 98, 109.0, nan, nan)     | Verkoopwaarde50VanDeTotaleOmzet_84      | Verkoopwaarde >= 50% van de totale omzet | % van bedrijven             |\n",
      "| (97, 98, 110.0, 111.0, nan)   | VerkoopViaEenWebsiteApp_85              | Verkoop via een website/app              | % van bedrijven             |\n",
      "| (97, 98, 110.0, 112.0, nan)   | Verkoopwaarde1VanDeTotaleOmzet_86       | Verkoopwaarde < 1% van de totale omzet   | % van bedrijven             |\n",
      "| (97, 98, 110.0, 113.0, nan)   | Verkoopwaarde1VanDeTotaleOmzet_87       | Verkoopwaarde >= 1% van de totale omzet  | % van bedrijven             |\n",
      "| (97, 98, 110.0, 114.0, nan)   | Verkoopwaarde2VanDeTotaleOmzet_88       | Verkoopwaarde >= 2% van de totale omzet  | % van bedrijven             |\n",
      "| (97, 98, 110.0, 115.0, nan)   | Verkoopwaarde5VanDeTotaleOmzet_89       | Verkoopwaarde >= 5% van de totale omzet  | % van bedrijven             |\n",
      "| (97, 98, 110.0, 116.0, nan)   | Verkoopwaarde10VanDeTotaleOmzet_90      | Verkoopwaarde >= 10% van de totale omzet | % van bedrijven             |\n",
      "| (97, 98, 110.0, 117.0, nan)   | Verkoopwaarde25VanDeTotaleOmzet_91      | Verkoopwaarde >= 25% van de totale omzet | % van bedrijven             |\n",
      "| (97, 98, 110.0, 118.0, nan)   | Verkoopwaarde50VanDeTotaleOmzet_92      | Verkoopwaarde >= 50% van de totale omzet | % van bedrijven             |\n",
      "| (97, 98, 110.0, 119.0, 120.0) | NederlandseConsumenten_93               | Nederlandse consumenten                  | % van omzet via website/app |\n",
      "| (97, 98, 110.0, 119.0, 121.0) | BuitenlandseConsumenten_94              | Buitenlandse consumenten                 | % van omzet via website/app |\n",
      "| (97, 98, 110.0, 119.0, 122.0) | Bedrijven_95                            | Bedrijven                                | % van omzet via website/app |\n",
      "| (97, 98, 110.0, 119.0, 123.0) | Overheden_96                            | Overheden                                | % van omzet via website/app |\n",
      "| (97, 98, 124.0, 125.0, nan)   | VerkoopViaEDI_97                        | Verkoop via EDI                          | % van bedrijven             |\n",
      "| (97, 98, 124.0, 126.0, nan)   | Verkoopwaarde1VanDeTotaleOmzet_98       | Verkoopwaarde < 1% van de totale omzet   | % van bedrijven             |\n",
      "| (97, 98, 124.0, 127.0, nan)   | Verkoopwaarde1VanDeTotaleOmzet_99       | Verkoopwaarde >= 1% van de totale omzet  | % van bedrijven             |\n",
      "| (97, 98, 124.0, 128.0, nan)   | Verkoopwaarde2VanDeTotaleOmzet_100      | Verkoopwaarde >= 2% van de totale omzet  | % van bedrijven             |\n",
      "| (97, 98, 124.0, 129.0, nan)   | Verkoopwaarde5VanDeTotaleOmzet_101      | Verkoopwaarde >= 5% van de totale omzet  | % van bedrijven             |\n",
      "| (97, 98, 124.0, 130.0, nan)   | Verkoopwaarde10VanDeTotaleOmzet_102     | Verkoopwaarde >= 10% van de totale omzet | % van bedrijven             |\n",
      "| (97, 98, 124.0, 131.0, nan)   | Verkoopwaarde25VanDeTotaleOmzet_103     | Verkoopwaarde >= 25% van de totale omzet | % van bedrijven             |\n",
      "| (97, 98, 124.0, 132.0, nan)   | Verkoopwaarde50VanDeTotaleOmzet_104     | Verkoopwaarde >= 50% van de totale omzet | % van bedrijven             |\n",
      "| (97, 133, 134.0, nan, nan)    | InkoopViaECommerce_105                  | Inkoop via e-commerce                    | % van bedrijven             |\n",
      "| (97, 133, 135.0, nan, nan)    | Inkoopwaarde1VanDeTotaleInkoop_106      | Inkoopwaarde < 1% van de totale inkoop   | % van bedrijven             |\n",
      "| (97, 133, 136.0, nan, nan)    | Inkoopwaarde1VanDeTotaleInkoop_107      | Inkoopwaarde >= 1% van de totale inkoop  | % van bedrijven             |\n",
      "| (97, 133, 137.0, nan, nan)    | Inkoopwaarde2VanDeTotaleInkoop_108      | Inkoopwaarde >= 2% van de totale inkoop  | % van bedrijven             |\n",
      "| (97, 133, 138.0, nan, nan)    | Inkoopwaarde5VanDeTotaleInkoop_109      | Inkoopwaarde >= 5% van de totale inkoop  | % van bedrijven             |\n",
      "| (97, 133, 139.0, nan, nan)    | Inkoopwaarde10VanDeTotaleInkoop_110     | Inkoopwaarde >= 10% van de totale inkoop | % van bedrijven             |\n",
      "| (97, 133, 140.0, nan, nan)    | Inkoopwaarde25VanDeTotaleInkoop_111     | Inkoopwaarde >= 25% van de totale inkoop | % van bedrijven             |\n",
      "| (97, 133, 141.0, nan, nan)    | Inkoopwaarde50VanDeTotaleInkoop_112     | Inkoopwaarde >= 50% van de totale inkoop | % van bedrijven             |\n",
      "| (97, 133, 142.0, 143.0, nan)  | InkoopViaEenWebsiteApp_113              | Inkoop via een website/app               | % van bedrijven             |\n",
      "| (97, 133, 142.0, 144.0, nan)  | Inkoopwaarde1VanDeTotaleInkoop_114      | Inkoopwaarde < 1% van de totale inkoop   | % van bedrijven             |\n",
      "| (97, 133, 142.0, 145.0, nan)  | Inkoopwaarde1VanDeTotaleInkoop_115      | Inkoopwaarde >= 1% van de totale inkoop  | % van bedrijven             |\n",
      "| (97, 133, 142.0, 146.0, nan)  | Inkoopwaarde2VanDeTotaleInkoop_116      | Inkoopwaarde >= 2% van de totale inkoop  | % van bedrijven             |\n",
      "| (97, 133, 142.0, 147.0, nan)  | Inkoopwaarde5VanDeTotaleInkoop_117      | Inkoopwaarde >= 5% van de totale inkoop  | % van bedrijven             |\n",
      "| (97, 133, 142.0, 148.0, nan)  | Inkoopwaarde10VanDeTotaleInkoop_118     | Inkoopwaarde >= 10% van de totale inkoop | % van bedrijven             |\n",
      "| (97, 133, 142.0, 149.0, nan)  | Inkoopwaarde25VanDeTotaleInkoop_119     | Inkoopwaarde >= 25% van de totale inkoop | % van bedrijven             |\n",
      "| (97, 133, 142.0, 150.0, nan)  | Inkoopwaarde50VanDeTotaleInkoop_120     | Inkoopwaarde >= 50% van de totale inkoop | % van bedrijven             |\n",
      "| (97, 133, 151.0, 152.0, nan)  | InkoopViaEDI_121                        | Inkoop via EDI                           | % van bedrijven             |\n",
      "| (97, 133, 151.0, 153.0, nan)  | Inkoopwaarde1VanDeTotaleInkoop_122      | Inkoopwaarde < 1% van de totale inkoop   | % van bedrijven             |\n",
      "| (97, 133, 151.0, 154.0, nan)  | Inkoopwaarde1VanDeTotaleInkoop_123      | Inkoopwaarde >= 1% van de totale inkoop  | % van bedrijven             |\n",
      "| (97, 133, 151.0, 155.0, nan)  | Inkoopwaarde2VanDeTotaleOmzet_124       | Inkoopwaarde >= 2% van de totale omzet   | % van bedrijven             |\n",
      "| (97, 133, 151.0, 156.0, nan)  | Inkoopwaarde5VanDeTotaleInkoop_125      | Inkoopwaarde >= 5% van de totale inkoop  | % van bedrijven             |\n",
      "| (97, 133, 151.0, 157.0, nan)  | Inkoopwaarde10VanDeTotaleInkoop_126     | Inkoopwaarde >= 10% van de totale inkoop | % van bedrijven             |\n",
      "| (97, 133, 151.0, 158.0, nan)  | Inkoopwaarde25VanDeTotaleInkoop_127     | Inkoopwaarde >= 25% van de totale inkoop | % van bedrijven             |\n",
      "| (97, 133, 151.0, 159.0, nan)  | Inkoopwaarde50VanDeTotaleInkoop_128     | Inkoopwaarde >= 50% van de totale inkoop | % van bedrijven             |\n",
      "+-------------------------------+-----------------------------------------+------------------------------------------+-----------------------------+\n"
     ]
    }
   ],
   "source": [
    "statline.show_question_table()"
   ]
  },
  {
   "cell_type": "code",
   "execution_count": null,
   "metadata": {},
   "outputs": [],
   "source": []
  }
 ],
 "metadata": {
  "kernelspec": {
   "display_name": "Python 3",
   "language": "python",
   "name": "python3"
  },
  "language_info": {
   "codemirror_mode": {
    "name": "ipython",
    "version": 3
   },
   "file_extension": ".py",
   "mimetype": "text/x-python",
   "name": "python",
   "nbconvert_exporter": "python",
   "pygments_lexer": "ipython3",
   "version": "3.7.3"
  }
 },
 "nbformat": 4,
 "nbformat_minor": 2
}
